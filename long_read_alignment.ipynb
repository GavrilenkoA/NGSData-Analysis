{
 "cells": [
  {
   "cell_type": "markdown",
   "id": "35eb5c4a",
   "metadata": {},
   "source": [
    "1. __выравнивание прочтений на геном__\n",
    "2. __перевод sam в bam файл__\n",
    "3. __подсчет кол-ва выравненных прочтений__\n",
    "4. __подсчет статистистик прочтений__"
   ]
  },
  {
   "cell_type": "markdown",
   "id": "a4307e9a",
   "metadata": {},
   "source": [
    "####  Данные ONT\n",
    "1. minimap2 -ax map-ont reference.fasta ONT_2D.fastq.gz > ONT.sam\n",
    "2. samtools view -S -b ONT.sam > ONT.bam\n",
    "3. samtools flagstat ONT.bam > flagstat_ONT.txt\n",
    "4. samtools stats -r reference.fasta ONT.bam > ONT.stats \n",
    "\n",
    "\n"
   ]
  },
  {
   "cell_type": "code",
   "execution_count": 210,
   "id": "159dbeb5",
   "metadata": {
    "ExecuteTime": {
     "end_time": "2023-05-08T16:24:49.887037943Z",
     "start_time": "2023-05-08T16:24:49.871094017Z"
    }
   },
   "outputs": [],
   "source": [
    "import pandas as pd\n",
    "import seaborn as sns\n",
    "import numpy as np\n",
    "import matplotlib.pyplot as plt\n",
    "import pysam\n",
    "import pandas as pd\n",
    "from tqdm import tqdm"
   ]
  },
  {
   "cell_type": "code",
   "execution_count": 122,
   "id": "491f4b57",
   "metadata": {},
   "outputs": [],
   "source": [
    "with open('reference.fasta') as fi:\n",
    "    ref = fi.readlines()[1:]\n",
    "    fi.close()\n",
    "ref = ''.join([item.strip() for item in ref])"
   ]
  },
  {
   "cell_type": "markdown",
   "id": "a4131ff7",
   "metadata": {},
   "source": [
    "### A) Кол-во выровненных прочтений:\n",
    "#### 29565 + 0 mapped (92.09% : N/A)\n",
    "#### 28272 + 0 primary mapped (91.76% : N/A)"
   ]
  },
  {
   "cell_type": "markdown",
   "id": "e3f7773a",
   "metadata": {},
   "source": [
    "### B) Распределение длин вставок"
   ]
  },
  {
   "cell_type": "code",
   "execution_count": 2,
   "id": "d2ea595c",
   "metadata": {},
   "outputs": [],
   "source": [
    "id_distr = pd.read_csv('./ID_ONT.txt', sep = '\\t', header = None)"
   ]
  },
  {
   "cell_type": "code",
   "execution_count": 3,
   "id": "595fdf45",
   "metadata": {},
   "outputs": [],
   "source": [
    "id_distr.columns = ['length', 'number_insertions', 'number_deleted']"
   ]
  },
  {
   "cell_type": "code",
   "execution_count": 4,
   "id": "2940d537",
   "metadata": {},
   "outputs": [
    {
     "data": {
      "text/html": [
       "<div>\n",
       "<style scoped>\n",
       "    .dataframe tbody tr th:only-of-type {\n",
       "        vertical-align: middle;\n",
       "    }\n",
       "\n",
       "    .dataframe tbody tr th {\n",
       "        vertical-align: top;\n",
       "    }\n",
       "\n",
       "    .dataframe thead th {\n",
       "        text-align: right;\n",
       "    }\n",
       "</style>\n",
       "<table border=\"1\" class=\"dataframe\">\n",
       "  <thead>\n",
       "    <tr style=\"text-align: right;\">\n",
       "      <th></th>\n",
       "      <th>length</th>\n",
       "      <th>number_insertions</th>\n",
       "      <th>number_deleted</th>\n",
       "    </tr>\n",
       "  </thead>\n",
       "  <tbody>\n",
       "    <tr>\n",
       "      <th>0</th>\n",
       "      <td>1</td>\n",
       "      <td>525344</td>\n",
       "      <td>1897085</td>\n",
       "    </tr>\n",
       "    <tr>\n",
       "      <th>1</th>\n",
       "      <td>2</td>\n",
       "      <td>207341</td>\n",
       "      <td>758942</td>\n",
       "    </tr>\n",
       "    <tr>\n",
       "      <th>2</th>\n",
       "      <td>3</td>\n",
       "      <td>81779</td>\n",
       "      <td>368504</td>\n",
       "    </tr>\n",
       "    <tr>\n",
       "      <th>3</th>\n",
       "      <td>4</td>\n",
       "      <td>31719</td>\n",
       "      <td>145775</td>\n",
       "    </tr>\n",
       "    <tr>\n",
       "      <th>4</th>\n",
       "      <td>5</td>\n",
       "      <td>14057</td>\n",
       "      <td>71921</td>\n",
       "    </tr>\n",
       "  </tbody>\n",
       "</table>\n",
       "</div>"
      ],
      "text/plain": [
       "   length  number_insertions  number_deleted\n",
       "0       1             525344         1897085\n",
       "1       2             207341          758942\n",
       "2       3              81779          368504\n",
       "3       4              31719          145775\n",
       "4       5              14057           71921"
      ]
     },
     "execution_count": 4,
     "metadata": {},
     "output_type": "execute_result"
    }
   ],
   "source": [
    "id_distr.head()"
   ]
  },
  {
   "cell_type": "code",
   "execution_count": 5,
   "id": "61719398",
   "metadata": {},
   "outputs": [],
   "source": [
    "val = np.log(id_distr['number_insertions'].values+1) "
   ]
  },
  {
   "cell_type": "code",
   "execution_count": 11,
   "id": "f30598c6",
   "metadata": {},
   "outputs": [
    {
     "data": {
      "image/png": "[encoded data removed]",
      "text/plain": [
       "<Figure size 640x480 with 1 Axes>"
      ]
     },
     "metadata": {},
     "output_type": "display_data"
    }
   ],
   "source": [
    "sns.histplot(val);\n",
    "plt.xlabel(\"Длина вставки в логарифимической школе\")\n",
    "plt.ylabel(\"Частота\")\n",
    "plt.title(f\"Распределение длин вставок\")\n",
    "plt.show()"
   ]
  },
  {
   "cell_type": "markdown",
   "id": "3e3c7d3f",
   "metadata": {},
   "source": [
    "### C) ДОля ошибок"
   ]
  },
  {
   "cell_type": "markdown",
   "id": "8b947f34",
   "metadata": {},
   "source": [
    "__error rate:\t8.109271e-02__"
   ]
  },
  {
   "cell_type": "markdown",
   "id": "4e0083f6",
   "metadata": {},
   "source": [
    "##### __D) Распределение типов замен__:"
   ]
  },
  {
   "cell_type": "markdown",
   "id": "f72ce68d",
   "metadata": {},
   "source": [
    "Перед тем как смотреть изменение в каждой позиции, необходимо сортировать bam файл относительно референса:\n"
   ]
  },
  {
   "cell_type": "markdown",
   "id": "c7f18686",
   "metadata": {},
   "source": [
    "#### samtools sort ONT.bam -o sorted_ONT.bam"
   ]
  },
  {
   "cell_type": "markdown",
   "id": "a3504e7b",
   "metadata": {},
   "source": [
    "Вычисление праспределений замен:\n",
    "### Буду использовать pysam для чтения bam файлов\n",
    "Информация о изменении в основании в атрибуте cigartuples"
   ]
  },
  {
   "cell_type": "code",
   "execution_count": 202,
   "id": "9de241f5",
   "metadata": {},
   "outputs": [],
   "source": [
    "bam_file = pysam.AlignmentFile(\"./sorted_ONT.bam\", \"rb\")\n",
    "reads = [read for read in bam_file]"
   ]
  },
  {
   "cell_type": "code",
   "execution_count": 203,
   "id": "0e2769e8",
   "metadata": {},
   "outputs": [],
   "source": [
    "sam_file = pysam.AlignmentFile(\"./ONT.sam\", \"r\")"
   ]
  },
  {
   "cell_type": "code",
   "execution_count": 204,
   "id": "bd4b17a3",
   "metadata": {},
   "outputs": [],
   "source": [
    "def count_substitution(sam_file):\n",
    "    substitution_counts = {('A', 'C'): 0, ('A', 'G'): 0, ('A', 'T'): 0,\n",
    "                       ('C', 'A'): 0, ('C', 'G'): 0, ('C', 'T'): 0,\n",
    "                       ('G', 'A'): 0, ('G', 'C'): 0, ('G', 'T'): 0,\n",
    "                       ('T', 'A'): 0, ('T', 'C'): 0, ('T', 'G'): 0, 'deletions': 0, 'inserts': 0}\n",
    "    for read in sam_file:\n",
    "        seq_read = read.query_sequence\n",
    "        if seq_read:\n",
    "            pos = read.get_aligned_pairs()\n",
    "            for item in pos:\n",
    "                if None not in item:\n",
    "                    query_idx, ref_idx = item\n",
    "                    ref_base = ref[ref_idx]\n",
    "                    query_base = seq_read[query_idx]\n",
    "                    if query_base != ref_base:\n",
    "                        substitution_counts[(query_base, ref_base)] += 1\n",
    "                else:\n",
    "                    if item[0] == None:\n",
    "                        substitution_counts['deletions'] += 1\n",
    "                    else:\n",
    "                        substitution_counts['inserts'] += 1\n",
    "    return substitution_counts\n",
    "        \n",
    "    \n",
    "\n",
    "\n"
   ]
  },
  {
   "cell_type": "code",
   "execution_count": 205,
   "id": "f14608ae",
   "metadata": {},
   "outputs": [],
   "source": [
    "substitution_counts = count_substitution(sam_file)\n",
    "                    "
   ]
  },
  {
   "cell_type": "code",
   "execution_count": 208,
   "id": "1851e2b1",
   "metadata": {},
   "outputs": [],
   "source": [
    "counts_df = pd.DataFrame(list(substitution_counts.items()), columns=['mutation', 'count'])"
   ]
  },
  {
   "cell_type": "code",
   "execution_count": 209,
   "id": "5397a55a",
   "metadata": {},
   "outputs": [
    {
     "data": {
      "text/html": [
       "<div>\n",
       "<style scoped>\n",
       "    .dataframe tbody tr th:only-of-type {\n",
       "        vertical-align: middle;\n",
       "    }\n",
       "\n",
       "    .dataframe tbody tr th {\n",
       "        vertical-align: top;\n",
       "    }\n",
       "\n",
       "    .dataframe thead th {\n",
       "        text-align: right;\n",
       "    }\n",
       "</style>\n",
       "<table border=\"1\" class=\"dataframe\">\n",
       "  <thead>\n",
       "    <tr style=\"text-align: right;\">\n",
       "      <th></th>\n",
       "      <th>mutation</th>\n",
       "      <th>count</th>\n",
       "    </tr>\n",
       "  </thead>\n",
       "  <tbody>\n",
       "    <tr>\n",
       "      <th>0</th>\n",
       "      <td>(A, C)</td>\n",
       "      <td>137046</td>\n",
       "    </tr>\n",
       "    <tr>\n",
       "      <th>1</th>\n",
       "      <td>(A, G)</td>\n",
       "      <td>319761</td>\n",
       "    </tr>\n",
       "    <tr>\n",
       "      <th>2</th>\n",
       "      <td>(A, T)</td>\n",
       "      <td>107765</td>\n",
       "    </tr>\n",
       "    <tr>\n",
       "      <th>3</th>\n",
       "      <td>(C, A)</td>\n",
       "      <td>112963</td>\n",
       "    </tr>\n",
       "    <tr>\n",
       "      <th>4</th>\n",
       "      <td>(C, G)</td>\n",
       "      <td>91353</td>\n",
       "    </tr>\n",
       "    <tr>\n",
       "      <th>5</th>\n",
       "      <td>(C, T)</td>\n",
       "      <td>372780</td>\n",
       "    </tr>\n",
       "    <tr>\n",
       "      <th>6</th>\n",
       "      <td>(G, A)</td>\n",
       "      <td>368487</td>\n",
       "    </tr>\n",
       "    <tr>\n",
       "      <th>7</th>\n",
       "      <td>(G, C)</td>\n",
       "      <td>85027</td>\n",
       "    </tr>\n",
       "    <tr>\n",
       "      <th>8</th>\n",
       "      <td>(G, T)</td>\n",
       "      <td>111447</td>\n",
       "    </tr>\n",
       "    <tr>\n",
       "      <th>9</th>\n",
       "      <td>(T, A)</td>\n",
       "      <td>105373</td>\n",
       "    </tr>\n",
       "    <tr>\n",
       "      <th>10</th>\n",
       "      <td>(T, C)</td>\n",
       "      <td>340675</td>\n",
       "    </tr>\n",
       "    <tr>\n",
       "      <th>11</th>\n",
       "      <td>(T, G)</td>\n",
       "      <td>126487</td>\n",
       "    </tr>\n",
       "    <tr>\n",
       "      <th>12</th>\n",
       "      <td>deletions</td>\n",
       "      <td>6308987</td>\n",
       "    </tr>\n",
       "    <tr>\n",
       "      <th>13</th>\n",
       "      <td>inserts</td>\n",
       "      <td>3975335</td>\n",
       "    </tr>\n",
       "  </tbody>\n",
       "</table>\n",
       "</div>"
      ],
      "text/plain": [
       "     mutation    count\n",
       "0      (A, C)   137046\n",
       "1      (A, G)   319761\n",
       "2      (A, T)   107765\n",
       "3      (C, A)   112963\n",
       "4      (C, G)    91353\n",
       "5      (C, T)   372780\n",
       "6      (G, A)   368487\n",
       "7      (G, C)    85027\n",
       "8      (G, T)   111447\n",
       "9      (T, A)   105373\n",
       "10     (T, C)   340675\n",
       "11     (T, G)   126487\n",
       "12  deletions  6308987\n",
       "13    inserts  3975335"
      ]
     },
     "execution_count": 209,
     "metadata": {},
     "output_type": "execute_result"
    }
   ],
   "source": [
    "counts_df"
   ]
  },
  {
   "cell_type": "markdown",
   "id": "2c7329b2",
   "metadata": {},
   "source": [
    "__E) Покрытие__\n"
   ]
  },
  {
   "cell_type": "code",
   "execution_count": 16,
   "id": "2b3419dc",
   "metadata": {},
   "outputs": [],
   "source": [
    "from collections import defaultdict"
   ]
  },
  {
   "cell_type": "code",
   "execution_count": 17,
   "id": "329a2c52",
   "metadata": {},
   "outputs": [],
   "source": [
    "def calculate_coverage(reads):\n",
    "    stats = defaultdict(int)  # словарь позиция в референсе - кол-во покрытий\n",
    "    for read in reads:\n",
    "        pairs = read.get_aligned_pairs()\n",
    "        for align in pairs:\n",
    "            _, idx_ref = align\n",
    "            if idx_ref:\n",
    "                stats[idx_ref] += 1\n",
    "    return stats"
   ]
  },
  {
   "cell_type": "code",
   "execution_count": 18,
   "id": "64e089e2",
   "metadata": {},
   "outputs": [],
   "source": [
    "stats = calculate_coverage(reads)"
   ]
  },
  {
   "cell_type": "code",
   "execution_count": 19,
   "id": "3470966a",
   "metadata": {},
   "outputs": [],
   "source": [
    "def plot_func(stats, name):\n",
    "    sns.histplot(stats.values(), bins = 100)\n",
    "    plt.xlabel(\"Позиция в геноме (в bin)\")\n",
    "    plt.ylabel(\"Кол-во покрытый\")\n",
    "    plt.title(f\"Покрытие референсного генома {name}\")\n",
    "    plt.show()\n",
    "    mean_coverage = np.array(list(stats.values())).mean()\n",
    "    print(f'Среднее покрытие на позицию {mean_coverage}')"
   ]
  },
  {
   "cell_type": "code",
   "execution_count": 20,
   "id": "2f03c4d1",
   "metadata": {},
   "outputs": [
    {
     "data": {
      "image/png": "[encoded data removed]",
      "text/plain": [
       "<Figure size 640x480 with 1 Axes>"
      ]
     },
     "metadata": {},
     "output_type": "display_data"
    },
    {
     "name": "stdout",
     "output_type": "stream",
     "text": [
      "Среднее покрытие на позицию 28.341344025463858\n"
     ]
    }
   ],
   "source": [
    "plot_func(stats, 'Oxford_Nanopore')"
   ]
  },
  {
   "cell_type": "markdown",
   "id": "133599d0",
   "metadata": {},
   "source": [
    "####  Данные Pacbio\n",
    "1. minimap2 -ax map-ont reference.fasta ONT_2D.fastq.gz > pacbio_align.sam\n",
    "2. samtools view -S -b pacbio_align.sam > pacbio_align.bam\n",
    "3. samtools flagstat pacbio_align.bam >> flagstat_pacbio.txt\n",
    "4. samtools stats -r reference.fasta pacbio_align.bam >> pacbio_align.stats\n"
   ]
  },
  {
   "cell_type": "markdown",
   "id": "659682ed",
   "metadata": {},
   "source": [
    "#### A) Кол-во выровненных прочтений:\n",
    "##### 51199 + 0 mapped (98.31% : N/A)\n",
    "##### 40565 + 0 primary mapped (97.87% : N/A)\n"
   ]
  },
  {
   "cell_type": "markdown",
   "id": "9d9f59da",
   "metadata": {},
   "source": [
    "### B) Распределение длин вставок"
   ]
  },
  {
   "cell_type": "code",
   "execution_count": 27,
   "id": "2b30101b",
   "metadata": {},
   "outputs": [],
   "source": [
    "id_distr = pd.read_csv('./ID_pacbio.txt', sep = '\\t', header = None)\n",
    "id_distr.columns = ['length', 'number_insertions', 'number_deleted']"
   ]
  },
  {
   "cell_type": "code",
   "execution_count": 28,
   "id": "ae437586",
   "metadata": {},
   "outputs": [
    {
     "data": {
      "image/png": "[encoded data removed]",
      "text/plain": [
       "<Figure size 640x480 with 1 Axes>"
      ]
     },
     "metadata": {},
     "output_type": "display_data"
    }
   ],
   "source": [
    "val = np.log(id_distr['number_insertions'].values+1)\n",
    "sns.histplot(val);\n",
    "plt.xlabel(\"Длина вставки в логарифимической школе\")\n",
    "plt.ylabel(\"Частота\")\n",
    "plt.title(f\"Распределение длин вставок\")\n",
    "plt.show()"
   ]
  },
  {
   "cell_type": "markdown",
   "id": "1c69acae",
   "metadata": {},
   "source": [
    "### C) Доля ошибок"
   ]
  },
  {
   "cell_type": "markdown",
   "id": "280ae056",
   "metadata": {},
   "source": [
    "error rate:\t1.458431e-01\t# mismatches / bases mapped (cigar)"
   ]
  },
  {
   "cell_type": "markdown",
   "id": "1604540c",
   "metadata": {},
   "source": [
    "__D) Распределение замен__:"
   ]
  },
  {
   "cell_type": "code",
   "execution_count": 211,
   "id": "934a3430",
   "metadata": {},
   "outputs": [],
   "source": [
    "# open the sam/bam file\n",
    "sam_file = pysam.AlignmentFile(\"./pacbio_align.sam\", \"r\")\n",
    "reads = [read for read in sam_file]\n"
   ]
  },
  {
   "cell_type": "code",
   "execution_count": 220,
   "id": "9178fd87",
   "metadata": {},
   "outputs": [],
   "source": [
    "substitution_counts = count_substitution(sam_file)"
   ]
  },
  {
   "cell_type": "code",
   "execution_count": 222,
   "id": "d47e62cb",
   "metadata": {},
   "outputs": [
    {
     "data": {
      "text/html": [
       "<div>\n",
       "<style scoped>\n",
       "    .dataframe tbody tr th:only-of-type {\n",
       "        vertical-align: middle;\n",
       "    }\n",
       "\n",
       "    .dataframe tbody tr th {\n",
       "        vertical-align: top;\n",
       "    }\n",
       "\n",
       "    .dataframe thead th {\n",
       "        text-align: right;\n",
       "    }\n",
       "</style>\n",
       "<table border=\"1\" class=\"dataframe\">\n",
       "  <thead>\n",
       "    <tr style=\"text-align: right;\">\n",
       "      <th></th>\n",
       "      <th>mutation</th>\n",
       "      <th>count</th>\n",
       "    </tr>\n",
       "  </thead>\n",
       "  <tbody>\n",
       "    <tr>\n",
       "      <th>0</th>\n",
       "      <td>(A, C)</td>\n",
       "      <td>464039</td>\n",
       "    </tr>\n",
       "    <tr>\n",
       "      <th>1</th>\n",
       "      <td>(A, G)</td>\n",
       "      <td>327302</td>\n",
       "    </tr>\n",
       "    <tr>\n",
       "      <th>2</th>\n",
       "      <td>(A, T)</td>\n",
       "      <td>289533</td>\n",
       "    </tr>\n",
       "    <tr>\n",
       "      <th>3</th>\n",
       "      <td>(C, A)</td>\n",
       "      <td>357476</td>\n",
       "    </tr>\n",
       "    <tr>\n",
       "      <th>4</th>\n",
       "      <td>(C, G)</td>\n",
       "      <td>420393</td>\n",
       "    </tr>\n",
       "    <tr>\n",
       "      <th>5</th>\n",
       "      <td>(C, T)</td>\n",
       "      <td>311896</td>\n",
       "    </tr>\n",
       "    <tr>\n",
       "      <th>6</th>\n",
       "      <td>(G, A)</td>\n",
       "      <td>309921</td>\n",
       "    </tr>\n",
       "    <tr>\n",
       "      <th>7</th>\n",
       "      <td>(G, C)</td>\n",
       "      <td>418981</td>\n",
       "    </tr>\n",
       "    <tr>\n",
       "      <th>8</th>\n",
       "      <td>(G, T)</td>\n",
       "      <td>362955</td>\n",
       "    </tr>\n",
       "    <tr>\n",
       "      <th>9</th>\n",
       "      <td>(T, A)</td>\n",
       "      <td>289389</td>\n",
       "    </tr>\n",
       "    <tr>\n",
       "      <th>10</th>\n",
       "      <td>(T, C)</td>\n",
       "      <td>327274</td>\n",
       "    </tr>\n",
       "    <tr>\n",
       "      <th>11</th>\n",
       "      <td>(T, G)</td>\n",
       "      <td>456051</td>\n",
       "    </tr>\n",
       "    <tr>\n",
       "      <th>12</th>\n",
       "      <td>deletions</td>\n",
       "      <td>7085320</td>\n",
       "    </tr>\n",
       "    <tr>\n",
       "      <th>13</th>\n",
       "      <td>inserts</td>\n",
       "      <td>46762198</td>\n",
       "    </tr>\n",
       "  </tbody>\n",
       "</table>\n",
       "</div>"
      ],
      "text/plain": [
       "     mutation     count\n",
       "0      (A, C)    464039\n",
       "1      (A, G)    327302\n",
       "2      (A, T)    289533\n",
       "3      (C, A)    357476\n",
       "4      (C, G)    420393\n",
       "5      (C, T)    311896\n",
       "6      (G, A)    309921\n",
       "7      (G, C)    418981\n",
       "8      (G, T)    362955\n",
       "9      (T, A)    289389\n",
       "10     (T, C)    327274\n",
       "11     (T, G)    456051\n",
       "12  deletions   7085320\n",
       "13    inserts  46762198"
      ]
     },
     "execution_count": 222,
     "metadata": {},
     "output_type": "execute_result"
    }
   ],
   "source": [
    "counts_df = pd.DataFrame(list(substitution_counts.items()), columns=['mutation', 'count'])\n",
    "counts_df"
   ]
  },
  {
   "cell_type": "markdown",
   "id": "0a5c2f1f",
   "metadata": {},
   "source": [
    "__E. Распределение покрытий__"
   ]
  },
  {
   "cell_type": "code",
   "execution_count": 18,
   "id": "42bdc1bf",
   "metadata": {},
   "outputs": [
    {
     "data": {
      "image/png": "[encoded data removed]",
      "text/plain": [
       "<Figure size 640x480 with 1 Axes>"
      ]
     },
     "metadata": {},
     "output_type": "display_data"
    },
    {
     "name": "stdout",
     "output_type": "stream",
     "text": [
      "Среднее покрытие на позицию 40.523643471502524\n"
     ]
    }
   ],
   "source": [
    "stats = calculate_coverage(reads)\n",
    "plot_func(stats, 'Pacbio')"
   ]
  },
  {
   "cell_type": "markdown",
   "id": "f6b76347",
   "metadata": {},
   "source": [
    "#### Покрытие ридов Pacbio показало лучшие результаты"
   ]
  },
  {
   "cell_type": "markdown",
   "id": "f114696e",
   "metadata": {},
   "source": [
    "#### Делеции в данных Pacbio оказалось больше, чем в ONT"
   ]
  },
  {
   "cell_type": "code",
   "execution_count": null,
   "id": "feb65ffa",
   "metadata": {},
   "outputs": [],
   "source": []
  }
 ],
 "metadata": {
  "kernelspec": {
   "display_name": "Python 3 (ipykernel)",
   "language": "python",
   "name": "python3"
  },
  "language_info": {
   "codemirror_mode": {
    "name": "ipython",
    "version": 3
   },
   "file_extension": ".py",
   "mimetype": "text/x-python",
   "name": "python",
   "nbconvert_exporter": "python",
   "pygments_lexer": "ipython3",
   "version": "3.10.6"
  }
 },
 "nbformat": 4,
 "nbformat_minor": 5
}
